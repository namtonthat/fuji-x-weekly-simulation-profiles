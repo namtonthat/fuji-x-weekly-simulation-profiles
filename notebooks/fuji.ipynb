{
 "cells": [
  {
   "cell_type": "code",
   "execution_count": 2,
   "metadata": {},
   "outputs": [
    {
     "name": "stdout",
     "output_type": "stream",
     "text": [
      "Total interest accumulated over one year: 4602.042862484393\n"
     ]
    }
   ],
   "source": [
    "# Constants\n",
    "monthly_contribution = 7000  # Monthly contribution in dollars\n",
    "annual_interest_rate = 5.1 / 100  # Annual interest rate in decimal\n",
    "months = 12  # Duration in months\n",
    "\n",
    "# Initial balance\n",
    "total_balance = 50000\n",
    "\n",
    "# Monthly interest rate\n",
    "monthly_interest_rate = annual_interest_rate / 12\n",
    "\n",
    "# Total interest accumulated\n",
    "total_interest = 0\n",
    "\n",
    "# Calculating total balance and interest for each month\n",
    "for month in range(1, months + 1):\n",
    "    # Interest for the current month\n",
    "    interest = total_balance * monthly_interest_rate\n",
    "    total_interest += interest\n",
    "\n",
    "    # Update total balance\n",
    "    total_balance += interest + monthly_contribution\n",
    "\n",
    "# Output total interest\n",
    "print(\"Total interest accumulated over one year:\", total_interest)"
   ]
  },
  {
   "cell_type": "code",
   "execution_count": 1,
   "metadata": {},
   "outputs": [],
   "source": [
    "import sys\n",
    "\n",
    "sys.path.append(\"../\")  # Adjust the path as necessary to reach the root of your projectmport logging\n",
    "\n",
    "from scrape.models import *\n",
    "\n",
    "from scrape.scrape import *"
   ]
  }
 ],
 "metadata": {
  "kernelspec": {
   "display_name": "openpowerlifting-ml-progress",
   "language": "python",
   "name": "openpowerlifting-ml-progress"
  },
  "language_info": {
   "codemirror_mode": {
    "name": "ipython",
    "version": 3
   },
   "file_extension": ".py",
   "mimetype": "text/x-python",
   "name": "python",
   "nbconvert_exporter": "python",
   "pygments_lexer": "ipython3",
   "version": "3.11.1"
  }
 },
 "nbformat": 4,
 "nbformat_minor": 2
}
