{
 "cells": [
  {
   "cell_type": "code",
   "execution_count": 1,
   "metadata": {},
   "outputs": [],
   "source": [
    "import sys\n",
    "sys.path.append('../')  # Adjust the path as necessary to reach the root of your projectmport logging\n",
    "\n",
    "from scrape.models import *\n",
    "\n",
    "from scrape.scrape import *"
   ]
  }
 ],
 "metadata": {
  "kernelspec": {
   "display_name": "fuji-x-weekly-simluation-profiles-3.11.6",
   "language": "python",
   "name": "python3"
  },
  "language_info": {
   "codemirror_mode": {
    "name": "ipython",
    "version": 3
   },
   "file_extension": ".py",
   "mimetype": "text/x-python",
   "name": "python",
   "nbconvert_exporter": "python",
   "pygments_lexer": "ipython3",
   "version": "3.11.6"
  }
 },
 "nbformat": 4,
 "nbformat_minor": 2
}
