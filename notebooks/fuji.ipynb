{
 "cells": [],
 "metadata": {
  "kernelspec": {
   "display_name": "openpowerlifting-ml-progress",
   "language": "python",
   "name": "openpowerlifting-ml-progress"
  },
  "language_info": {
   "codemirror_mode": {
    "name": "ipython",
    "version": 3
   },
   "file_extension": ".py",
   "mimetype": "text/x-python",
   "name": "python",
   "nbconvert_exporter": "python",
   "pygments_lexer": "ipython3",
   "version": "3.11.1"
  }
 },
 "nbformat": 4,
 "nbformat_minor": 2
}
