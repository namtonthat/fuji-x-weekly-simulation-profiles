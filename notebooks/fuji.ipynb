{
 "cells": [
  {
   "cell_type": "code",
   "execution_count": 1,
   "metadata": {},
   "outputs": [],
   "source": [
    "import sys\n",
    "sys.path.append('../')  # Adjust the path as necessary to reach the root of your projectmport logging\n",
    "\n",
    "from scrape.models import *\n",
    "\n",
    "from scrape.scrape import *"
   ]
  },
  {
   "cell_type": "code",
   "execution_count": 2,
   "metadata": {},
   "outputs": [
    {
     "name": "stderr",
     "output_type": "stream",
     "text": [
      "2023-11-20 13:08:11,391 - scrape.scrape - WARNING - Recipe Kodak Portra 160 v2 — Fujifilm X-T5 (X-Trans V) Film Simulation Recipe already fetched.\n",
      "2023-11-20 13:08:11,391 - scrape.scrape - WARNING - Recipe Kodak Portra 160 v2 — Fujifilm X-T5 (X-Trans V) Film Simulation Recipe already fetched.\n",
      "2023-11-20 13:08:11,746 - scrape.scrape - INFO - Saving recipe \"Nostalgia Negative\"\n"
     ]
    },
    {
     "ename": "TemplateNotFound",
     "evalue": "../templates/fp1.jinja2",
     "output_type": "error",
     "traceback": [
      "\u001b[0;31m---------------------------------------------------------------------------\u001b[0m",
      "\u001b[0;31mTemplateNotFound\u001b[0m                          Traceback (most recent call last)",
      "Cell \u001b[0;32mIn[2], line 61\u001b[0m\n\u001b[1;32m     59\u001b[0m \u001b[39mfor\u001b[39;00m recipe \u001b[39min\u001b[39;00m fuji_recipes_for_sensor:\n\u001b[1;32m     60\u001b[0m     logger\u001b[39m.\u001b[39minfo(\u001b[39m'\u001b[39m\u001b[39mSaving recipe \u001b[39m\u001b[39m\"\u001b[39m\u001b[39m%s\u001b[39;00m\u001b[39m\"\u001b[39m\u001b[39m'\u001b[39m, recipe\u001b[39m.\u001b[39mlink\u001b[39m.\u001b[39mname)\n\u001b[0;32m---> 61\u001b[0m     recipe\u001b[39m.\u001b[39;49msave()\n",
      "File \u001b[0;32m~/github/fuji-x-weekly-simluation-profiles/notebooks/../scrape/scrape.py:330\u001b[0m, in \u001b[0;36mFujiRecipe.save\u001b[0;34m(self)\u001b[0m\n\u001b[1;32m    329\u001b[0m \u001b[39mdef\u001b[39;00m \u001b[39msave\u001b[39m(\u001b[39mself\u001b[39m):\n\u001b[0;32m--> 330\u001b[0m     output \u001b[39m=\u001b[39m \u001b[39mself\u001b[39;49m\u001b[39m.\u001b[39;49mset_xml()\n\u001b[1;32m    331\u001b[0m     directory_path \u001b[39m=\u001b[39m os\u001b[39m.\u001b[39mpath\u001b[39m.\u001b[39mdirname(\u001b[39mself\u001b[39m\u001b[39m.\u001b[39moutput_file_path)\n\u001b[1;32m    332\u001b[0m     os\u001b[39m.\u001b[39mmakedirs(directory_path, exist_ok\u001b[39m=\u001b[39m\u001b[39mTrue\u001b[39;00m)\n",
      "File \u001b[0;32m~/github/fuji-x-weekly-simluation-profiles/notebooks/../scrape/scrape.py:323\u001b[0m, in \u001b[0;36mFujiRecipe.set_xml\u001b[0;34m(self)\u001b[0m\n\u001b[1;32m    322\u001b[0m \u001b[39mdef\u001b[39;00m \u001b[39mset_xml\u001b[39m(\u001b[39mself\u001b[39m):\n\u001b[0;32m--> 323\u001b[0m     template \u001b[39m=\u001b[39m \u001b[39mself\u001b[39;49m\u001b[39m.\u001b[39;49mrender_template()\n\u001b[1;32m    325\u001b[0m     initial_filled_template \u001b[39m=\u001b[39m template\u001b[39m.\u001b[39mrender(\u001b[39mself\u001b[39m\u001b[39m.\u001b[39mlink\u001b[39m.\u001b[39m\u001b[39m__dict__\u001b[39m)\n\u001b[1;32m    326\u001b[0m     filled_xml \u001b[39m=\u001b[39m fill_xml_template(\u001b[39mself\u001b[39m\u001b[39m.\u001b[39mas_flat_dict(), initial_filled_template)\n",
      "File \u001b[0;32m~/github/fuji-x-weekly-simluation-profiles/notebooks/../scrape/scrape.py:318\u001b[0m, in \u001b[0;36mFujiRecipe.render_template\u001b[0;34m(self)\u001b[0m\n\u001b[1;32m    316\u001b[0m file_loader \u001b[39m=\u001b[39m FileSystemLoader(template_dir)\n\u001b[1;32m    317\u001b[0m env \u001b[39m=\u001b[39m Environment(loader\u001b[39m=\u001b[39mfile_loader, autoescape\u001b[39m=\u001b[39m\u001b[39mTrue\u001b[39;00m)\n\u001b[0;32m--> 318\u001b[0m template \u001b[39m=\u001b[39m env\u001b[39m.\u001b[39;49mget_template(\u001b[39mself\u001b[39;49m\u001b[39m.\u001b[39;49mtemplate_location)\n\u001b[1;32m    320\u001b[0m \u001b[39mreturn\u001b[39;00m template\n",
      "File \u001b[0;32m~/.pyenv/versions/3.11.6/envs/fuji-x-weekly-simluation-profiles-3.11.6/lib/python3.11/site-packages/jinja2/environment.py:1010\u001b[0m, in \u001b[0;36mEnvironment.get_template\u001b[0;34m(self, name, parent, globals)\u001b[0m\n\u001b[1;32m   1007\u001b[0m \u001b[39mif\u001b[39;00m parent \u001b[39mis\u001b[39;00m \u001b[39mnot\u001b[39;00m \u001b[39mNone\u001b[39;00m:\n\u001b[1;32m   1008\u001b[0m     name \u001b[39m=\u001b[39m \u001b[39mself\u001b[39m\u001b[39m.\u001b[39mjoin_path(name, parent)\n\u001b[0;32m-> 1010\u001b[0m \u001b[39mreturn\u001b[39;00m \u001b[39mself\u001b[39;49m\u001b[39m.\u001b[39;49m_load_template(name, \u001b[39mglobals\u001b[39;49m)\n",
      "File \u001b[0;32m~/.pyenv/versions/3.11.6/envs/fuji-x-weekly-simluation-profiles-3.11.6/lib/python3.11/site-packages/jinja2/environment.py:969\u001b[0m, in \u001b[0;36mEnvironment._load_template\u001b[0;34m(self, name, globals)\u001b[0m\n\u001b[1;32m    965\u001b[0m             template\u001b[39m.\u001b[39mglobals\u001b[39m.\u001b[39mupdate(\u001b[39mglobals\u001b[39m)\n\u001b[1;32m    967\u001b[0m         \u001b[39mreturn\u001b[39;00m template\n\u001b[0;32m--> 969\u001b[0m template \u001b[39m=\u001b[39m \u001b[39mself\u001b[39;49m\u001b[39m.\u001b[39;49mloader\u001b[39m.\u001b[39;49mload(\u001b[39mself\u001b[39;49m, name, \u001b[39mself\u001b[39;49m\u001b[39m.\u001b[39;49mmake_globals(\u001b[39mglobals\u001b[39;49m))\n\u001b[1;32m    971\u001b[0m \u001b[39mif\u001b[39;00m \u001b[39mself\u001b[39m\u001b[39m.\u001b[39mcache \u001b[39mis\u001b[39;00m \u001b[39mnot\u001b[39;00m \u001b[39mNone\u001b[39;00m:\n\u001b[1;32m    972\u001b[0m     \u001b[39mself\u001b[39m\u001b[39m.\u001b[39mcache[cache_key] \u001b[39m=\u001b[39m template\n",
      "File \u001b[0;32m~/.pyenv/versions/3.11.6/envs/fuji-x-weekly-simluation-profiles-3.11.6/lib/python3.11/site-packages/jinja2/loaders.py:126\u001b[0m, in \u001b[0;36mBaseLoader.load\u001b[0;34m(self, environment, name, globals)\u001b[0m\n\u001b[1;32m    122\u001b[0m     \u001b[39mglobals\u001b[39m \u001b[39m=\u001b[39m {}\n\u001b[1;32m    124\u001b[0m \u001b[39m# first we try to get the source for this template together\u001b[39;00m\n\u001b[1;32m    125\u001b[0m \u001b[39m# with the filename and the uptodate function.\u001b[39;00m\n\u001b[0;32m--> 126\u001b[0m source, filename, uptodate \u001b[39m=\u001b[39m \u001b[39mself\u001b[39;49m\u001b[39m.\u001b[39;49mget_source(environment, name)\n\u001b[1;32m    128\u001b[0m \u001b[39m# try to load the code from the bytecode cache if there is a\u001b[39;00m\n\u001b[1;32m    129\u001b[0m \u001b[39m# bytecode cache configured.\u001b[39;00m\n\u001b[1;32m    130\u001b[0m bcc \u001b[39m=\u001b[39m environment\u001b[39m.\u001b[39mbytecode_cache\n",
      "File \u001b[0;32m~/.pyenv/versions/3.11.6/envs/fuji-x-weekly-simluation-profiles-3.11.6/lib/python3.11/site-packages/jinja2/loaders.py:195\u001b[0m, in \u001b[0;36mFileSystemLoader.get_source\u001b[0;34m(self, environment, template)\u001b[0m\n\u001b[1;32m    192\u001b[0m \u001b[39mdef\u001b[39;00m \u001b[39mget_source\u001b[39m(\n\u001b[1;32m    193\u001b[0m     \u001b[39mself\u001b[39m, environment: \u001b[39m\"\u001b[39m\u001b[39mEnvironment\u001b[39m\u001b[39m\"\u001b[39m, template: \u001b[39mstr\u001b[39m\n\u001b[1;32m    194\u001b[0m ) \u001b[39m-\u001b[39m\u001b[39m>\u001b[39m t\u001b[39m.\u001b[39mTuple[\u001b[39mstr\u001b[39m, \u001b[39mstr\u001b[39m, t\u001b[39m.\u001b[39mCallable[[], \u001b[39mbool\u001b[39m]]:\n\u001b[0;32m--> 195\u001b[0m     pieces \u001b[39m=\u001b[39m split_template_path(template)\n\u001b[1;32m    196\u001b[0m     \u001b[39mfor\u001b[39;00m searchpath \u001b[39min\u001b[39;00m \u001b[39mself\u001b[39m\u001b[39m.\u001b[39msearchpath:\n\u001b[1;32m    197\u001b[0m         \u001b[39m# Use posixpath even on Windows to avoid \"drive:\" or UNC\u001b[39;00m\n\u001b[1;32m    198\u001b[0m         \u001b[39m# segments breaking out of the search directory.\u001b[39;00m\n\u001b[1;32m    199\u001b[0m         filename \u001b[39m=\u001b[39m posixpath\u001b[39m.\u001b[39mjoin(searchpath, \u001b[39m*\u001b[39mpieces)\n",
      "File \u001b[0;32m~/.pyenv/versions/3.11.6/envs/fuji-x-weekly-simluation-profiles-3.11.6/lib/python3.11/site-packages/jinja2/loaders.py:36\u001b[0m, in \u001b[0;36msplit_template_path\u001b[0;34m(template)\u001b[0m\n\u001b[1;32m     30\u001b[0m \u001b[39mfor\u001b[39;00m piece \u001b[39min\u001b[39;00m template\u001b[39m.\u001b[39msplit(\u001b[39m\"\u001b[39m\u001b[39m/\u001b[39m\u001b[39m\"\u001b[39m):\n\u001b[1;32m     31\u001b[0m     \u001b[39mif\u001b[39;00m (\n\u001b[1;32m     32\u001b[0m         os\u001b[39m.\u001b[39mpath\u001b[39m.\u001b[39msep \u001b[39min\u001b[39;00m piece\n\u001b[1;32m     33\u001b[0m         \u001b[39mor\u001b[39;00m (os\u001b[39m.\u001b[39mpath\u001b[39m.\u001b[39maltsep \u001b[39mand\u001b[39;00m os\u001b[39m.\u001b[39mpath\u001b[39m.\u001b[39maltsep \u001b[39min\u001b[39;00m piece)\n\u001b[1;32m     34\u001b[0m         \u001b[39mor\u001b[39;00m piece \u001b[39m==\u001b[39m os\u001b[39m.\u001b[39mpath\u001b[39m.\u001b[39mpardir\n\u001b[1;32m     35\u001b[0m     ):\n\u001b[0;32m---> 36\u001b[0m         \u001b[39mraise\u001b[39;00m TemplateNotFound(template)\n\u001b[1;32m     37\u001b[0m     \u001b[39melif\u001b[39;00m piece \u001b[39mand\u001b[39;00m piece \u001b[39m!=\u001b[39m \u001b[39m\"\u001b[39m\u001b[39m.\u001b[39m\u001b[39m\"\u001b[39m:\n\u001b[1;32m     38\u001b[0m         pieces\u001b[39m.\u001b[39mappend(piece)\n",
      "\u001b[0;31mTemplateNotFound\u001b[0m: ../templates/fp1.jinja2"
     ]
    }
   ],
   "source": [
    "\n",
    "@dataclass\n",
    "class FujiRecipeLink:\n",
    "    name: str\n",
    "    url: str\n",
    "\n",
    "    recipe_url_pattern: str = r\"https?://fujixweekly\\.com/\\d{4}/\\d{2}/\\d{2}/.*recipe/$\"\n",
    "\n",
    "    def is_valid_recipe_link(self) -> bool:\n",
    "        # Check if the URL is None, the starting point, or the ending point\n",
    "        if self.url is None or self.url == \"#content\" or \"twitter\" in self.url:\n",
    "            return False\n",
    "\n",
    "        return bool(re.match(FujiRecipeLink.recipe_url_pattern, self.url))\n",
    "\n",
    "@dataclass\n",
    "class FujiRecipes:\n",
    "    sensor: FujiSensor  # Assuming FujiSensor is defined somewhere\n",
    "    base_sensor_url: str\n",
    "    related_recipes: list[FujiRecipe]  # Assuming FujiRecipe is defined somewhere\n",
    "\n",
    "    @staticmethod\n",
    "    def soup_representation(url: str) -> BeautifulSoup:\n",
    "        page = requests.get(url, timeout=TIMEOUT_SECONDS)\n",
    "        soup = BeautifulSoup(page.content, \"html.parser\")\n",
    "        return soup\n",
    "\n",
    "    @classmethod\n",
    "    def max_recipes(cls, sensor_url) -> int:\n",
    "        soup = cls.soup_representation(sensor_url)\n",
    "        recipe_links = soup.find_all(\"a\", href=re.compile(FujiRecipeLink.recipe_url_pattern))\n",
    "        return len(recipe_links)\n",
    "\n",
    "    @classmethod\n",
    "    def fetch_recipes(cls, sensor, sensor_url) -> list[FujiRecipe]:\n",
    "        soup = cls.soup_representation(sensor_url)\n",
    "        all_links_for_sensor = soup.find_all(\"a\")\n",
    "\n",
    "        related_recipes = []\n",
    "        for link in all_links_for_sensor:\n",
    "            link_object = FujiRecipeLink(url=link.get('href'), name=link.text)\n",
    "            if link_object.is_valid_recipe_link():\n",
    "                sensor_recipe = FujiRecipe(sensor=sensor, link=link_object)\n",
    "                if sensor_recipe in related_recipes:\n",
    "                    logger.warning(f\"Recipe {sensor_recipe.link.name} already fetched.\")\n",
    "                else:\n",
    "                    related_recipes.append(sensor_recipe)\n",
    "\n",
    "        # Validation Step\n",
    "        if len(related_recipes) > cls.max_recipes(sensor_url):\n",
    "            logger.warning(f\"More recipes fetched ({len(related_recipes)}) than the expected maximum.\")\n",
    "        return related_recipes\n",
    "\n",
    "\n",
    "\n",
    "sensor_recipes = {}\n",
    "for sensor, sensor_url in GLOBAL_SENSOR_LIST.items():\n",
    "    fuji_recipes_for_sensor = FujiRecipes.fetch_recipes(sensor, sensor_url)\n",
    "\n",
    "    for recipe in fuji_recipes_for_sensor:\n",
    "        logger.info('Saving recipe \"%s\"', recipe.link.name)\n",
    "        recipe.save()\n"
   ]
  },
  {
   "cell_type": "code",
   "execution_count": 46,
   "metadata": {},
   "outputs": [
    {
     "data": {
      "text/plain": [
       "[]"
      ]
     },
     "execution_count": 46,
     "metadata": {},
     "output_type": "execute_result"
    }
   ],
   "source": []
  }
 ],
 "metadata": {
  "kernelspec": {
   "display_name": "fuji-x-weekly-simluation-profiles-3.11.6",
   "language": "python",
   "name": "python3"
  },
  "language_info": {
   "codemirror_mode": {
    "name": "ipython",
    "version": 3
   },
   "file_extension": ".py",
   "mimetype": "text/x-python",
   "name": "python",
   "nbconvert_exporter": "python",
   "pygments_lexer": "ipython3",
   "version": "3.11.6"
  }
 },
 "nbformat": 4,
 "nbformat_minor": 2
}
